{
 "cells": [
  {
   "cell_type": "code",
   "execution_count": 1,
   "id": "47898ae6-4056-4eab-a9a0-b8d941f3935a",
   "metadata": {},
   "outputs": [],
   "source": [
    "#1. Write a program to accept percentage from the user and display the grade according to the following criteria."
   ]
  },
  {
   "cell_type": "code",
   "execution_count": 31,
   "id": "7e407900-f123-4892-8403-86bf2e3b53e7",
   "metadata": {},
   "outputs": [
    {
     "name": "stdin",
     "output_type": "stream",
     "text": [
      "Enter marks of the First subject: 98\n",
      "Enter marks of the Second subject: 98\n",
      "Enter marks of the Third subject: 85\n",
      "Enter marks of the Fourth subject: 80\n",
      "Enter marks of the Fifth subject: 90\n"
     ]
    },
    {
     "name": "stdout",
     "output_type": "stream",
     "text": [
      "Grade: A\n"
     ]
    }
   ],
   "source": [
    "#Ans\n",
    "\n",
    "sub1 = int(input(\"Enter marks of the First subject:\"))\n",
    "sub2 = int(input(\"Enter marks of the Second subject:\"))\n",
    "sub3 = int(input(\"Enter marks of the Third subject:\"))\n",
    "sub4 = int(input(\"Enter marks of the Fourth subject:\"))\n",
    "sub5 = int(input(\"Enter marks of the Fifth subject:\"))\n",
    "marks = (sub1+sub2+sub3+sub4+sub5)/5\n",
    "if marks >= 90:\n",
    "    print(\"Grade: A\")\n",
    "elif marks >80 and marks <=90:\n",
    "    print(\"Grade: B\") \n",
    "elif marks >=60 and marks <=80:\n",
    "    print(\"Grade: C\")\n",
    "elif marks < 60:\n",
    "    print(\"Grade: D\")"
   ]
  },
  {
   "cell_type": "code",
   "execution_count": 2,
   "id": "66ff4bd8-4850-4ceb-ac72-8353e2a1b441",
   "metadata": {},
   "outputs": [],
   "source": [
    "#2. Write a program to accept the cost price of a bike and display the road tax to be paid according to the following criteria."
   ]
  },
  {
   "cell_type": "code",
   "execution_count": 17,
   "id": "361a9802-3e7e-4eb2-ac1e-bfa116a402c1",
   "metadata": {},
   "outputs": [
    {
     "name": "stdin",
     "output_type": "stream",
     "text": [
      "Enter bike price = 50000\n"
     ]
    },
    {
     "name": "stdout",
     "output_type": "stream",
     "text": [
      "Tax to be paid = 2500.0\n"
     ]
    }
   ],
   "source": [
    "#Ans\n",
    "\n",
    "price = int(input(\"Enter bike price =\"))\n",
    "if price > 100000:\n",
    "    tax = 15/100*price\n",
    "elif price > 50000 and price <= 100000:\n",
    "    tax = 10/100*price\n",
    "else :\n",
    "    tax = 5/100*price\n",
    "    print(\"Tax to be paid =\",tax)"
   ]
  },
  {
   "cell_type": "code",
   "execution_count": 18,
   "id": "9c681c7e-be8b-4c70-9bb7-27f1c29fb280",
   "metadata": {},
   "outputs": [],
   "source": [
    "#3. Accept any city from the user and display monuments of that city."
   ]
  },
  {
   "cell_type": "code",
   "execution_count": 12,
   "id": "6c6a7b0e-dc69-4aa5-9d1c-3be275451c52",
   "metadata": {},
   "outputs": [
    {
     "name": "stdin",
     "output_type": "stream",
     "text": [
      "Enter City Name - Delhi\n"
     ]
    },
    {
     "name": "stdout",
     "output_type": "stream",
     "text": [
      "Monument name is - Red Fort\n"
     ]
    }
   ],
   "source": [
    "#Ans\n",
    "\n",
    "city = input(\"Enter City Name -\")\n",
    "if city.upper() == \"DELHI\":\n",
    "    print(\"Monument name is - Red Fort\")\n",
    "elif city.upper() == \"AGRA\":\n",
    "    print(\"Monument name is - Taj Mahal\")\n",
    "elif city.upper() == \"JAIPUR\":\n",
    "    print(\"Monument name is - Jal Mahal\")\n",
    "else:\n",
    "    print(\"Please enter a valid city name\")"
   ]
  },
  {
   "cell_type": "code",
   "execution_count": 13,
   "id": "ffaea6c4-7dc9-40ec-a514-7bd43dbaed89",
   "metadata": {},
   "outputs": [],
   "source": [
    "#4. Check how many times a given number can be divided by 3 before it is less than or equal to 10."
   ]
  },
  {
   "cell_type": "code",
   "execution_count": 16,
   "id": "c046bb1f-2c4c-4c2d-b270-17d19fc6a47b",
   "metadata": {},
   "outputs": [
    {
     "name": "stdin",
     "output_type": "stream",
     "text": [
      "Enter your number: 3\n"
     ]
    },
    {
     "name": "stdout",
     "output_type": "stream",
     "text": [
      "3 is divided by 3\n"
     ]
    }
   ],
   "source": [
    "#Ans\n",
    "\n",
    "num1=int(input(\"Enter your number:\"))\n",
    "if(num1%3==0):\n",
    "    print(\"{} is divided by 3\".format(num1))\n",
    "else:\n",
    "    print(\"{} is not divided by 3\".format(num1))\n"
   ]
  },
  {
   "cell_type": "code",
   "execution_count": 17,
   "id": "b4d67c05-1767-476b-9525-c86d4c38c97f",
   "metadata": {},
   "outputs": [],
   "source": [
    "#5. Why and when to use while loop in python give a detailed description with example."
   ]
  },
  {
   "cell_type": "code",
   "execution_count": 21,
   "id": "e3c52132-d99e-46fc-9a85-610d840d5656",
   "metadata": {},
   "outputs": [
    {
     "name": "stdout",
     "output_type": "stream",
     "text": [
      "0\n",
      "1\n",
      "2\n",
      "3\n",
      "4\n",
      "5\n",
      "6\n",
      "7\n",
      "8\n",
      "9\n"
     ]
    }
   ],
   "source": [
    "#Ans\n",
    "\n",
    "#A while loop is made up of a condition or expression followed by a block of code to run. The condition or expression will be evaluated in a Boolean context. If it turns out to be true, the code within the block will be run. This repeats until the condition evaluates as false. At this point, program execution will proceed to the first statement after the body of the loop. As with if statements, a while loop can be specified on one line. If there are multiple statements in the loop body block, they can be separated by semicolons. Python loops can have an else clause that can be included at the end of the loop. The else block of code runs only if the loop completes without encountering a break statement.\n",
    "\n",
    "#Example -\n",
    "\n",
    "i = 0\n",
    "while i < 10:\n",
    "    print(i)\n",
    "    i += 1"
   ]
  },
  {
   "cell_type": "code",
   "execution_count": 22,
   "id": "a4e30de7-c139-4fe7-b348-f13bf785cf2e",
   "metadata": {},
   "outputs": [],
   "source": [
    "#6. Use nested while loop to print 3 different pattern."
   ]
  },
  {
   "cell_type": "code",
   "execution_count": 24,
   "id": "bb6db52b-9e06-4e25-9f6d-6b08c5138abc",
   "metadata": {},
   "outputs": [
    {
     "name": "stdout",
     "output_type": "stream",
     "text": [
      "1 \n",
      "1 2 \n",
      "1 2 3 \n"
     ]
    }
   ],
   "source": [
    "#Ans\n",
    "\n",
    "i=1\n",
    "while i<=3:\n",
    "    j=1\n",
    "    while j<=i:\n",
    "        print(j,end=\" \")\n",
    "        j=j+1\n",
    "    print(\"\")\n",
    "    i=i+1"
   ]
  },
  {
   "cell_type": "code",
   "execution_count": 25,
   "id": "58392e2f-a76a-4bbe-9f2b-b5030f302e12",
   "metadata": {},
   "outputs": [],
   "source": [
    "#7. Reverse a while loop to display number from 10 to 1."
   ]
  },
  {
   "cell_type": "code",
   "execution_count": 26,
   "id": "66847fea-d762-4bc7-aff3-1c6ef74ca400",
   "metadata": {},
   "outputs": [
    {
     "name": "stdout",
     "output_type": "stream",
     "text": [
      "10\n",
      "9\n",
      "8\n",
      "7\n",
      "6\n",
      "5\n",
      "4\n",
      "3\n",
      "2\n",
      "1\n"
     ]
    }
   ],
   "source": [
    "#Ans\n",
    "\n",
    "i = 10\n",
    "while i > 0:\n",
    "    print(i)\n",
    "    i = i - 1"
   ]
  },
  {
   "cell_type": "code",
   "execution_count": null,
   "id": "b2583a1d-2dcf-4377-ab5d-5121694f1b98",
   "metadata": {},
   "outputs": [],
   "source": [
    "#8. "
   ]
  }
 ],
 "metadata": {
  "kernelspec": {
   "display_name": "Python 3 (ipykernel)",
   "language": "python",
   "name": "python3"
  },
  "language_info": {
   "codemirror_mode": {
    "name": "ipython",
    "version": 3
   },
   "file_extension": ".py",
   "mimetype": "text/x-python",
   "name": "python",
   "nbconvert_exporter": "python",
   "pygments_lexer": "ipython3",
   "version": "3.10.8"
  }
 },
 "nbformat": 4,
 "nbformat_minor": 5
}
